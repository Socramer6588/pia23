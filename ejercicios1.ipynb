{
 "cells": [
  {
   "cell_type": "markdown",
   "metadata": {},
   "source": [
    "# Ejercicios Python"
   ]
  },
  {
   "cell_type": "markdown",
   "metadata": {},
   "source": [
    "## 1. Índice de masa corporal\n",
    "\n",
    "Escribir un programa que pida al usuario su peso (en kg) y estatura (en metros), calcule su índice de masa corporal y lo muestre con dos decimales. El índice de masa corporal se calcula como el peso dividido por el cuadrado de la estatura.\n",
    "\n",
    "Ejemplo de ejecución\n",
    "\n",
    "```none\n",
    "¿Cuál es tu peso en kg?: 72\n",
    "¿Cuál es tu estatura en metros?: 1.76\n",
    "Tu índice de masa corporal es 23\n",
    "----------------------------------------\n",
    "¿Cuál es tu peso en kg?: 85\n",
    "¿Cuál es tu estatura en metros?: 1.68\n",
    "Tu índice de masa corporal es 30\n",
    "```"
   ]
  },
  {
   "cell_type": "code",
   "execution_count": 2,
   "metadata": {},
   "outputs": [
    {
     "name": "stdout",
     "output_type": "stream",
     "text": [
      "Tu índice de masa corporal es: 22.88\n"
     ]
    }
   ],
   "source": [
    "def imc(peso, estatura):\n",
    "    return round(peso/(estatura**2), 2)\n",
    "\n",
    "peso = float(input(\"¿Cuál es tu peso en kg?: \"))\n",
    "estatura = float(input(\"¿Cuál es tu estatura en metros?: \"))\n",
    "print(f'Tu índice de masa corporal es: {imc(peso, estatura)}')\n",
    "\n",
    "# Dificultad 1"
   ]
  },
  {
   "cell_type": "markdown",
   "metadata": {},
   "source": [
    "## 2. Desplazar elementos de una lista\n",
    "\n",
    "Implementar un programa en Python que:\n",
    "- Lea por teclado un número entero (n) mayor que 0.\n",
    "- Lea por teclado n números separados por espacios y los almacene en una lista.\n",
    "- Lea por teclado un número entero (d) mayor que 0.\n",
    "- Genere una nueva lista donde desplace a la derecha d posiciones (de forma circular) todos los elementos de la lista.\n",
    "\n",
    "\n",
    "Ejemplo de ejecución:\n",
    "```none\n",
    "=============================================\n",
    "Dime el numero de elementos: 8\n",
    "Dime los elementos: 4 7 1 2 5 9 11 31\n",
    "Dime el desplazamiento: 4\n",
    "La lista resultante es: 5 9 11 31 4 7 1 2\n",
    "=============================================\n",
    "```"
   ]
  },
  {
   "cell_type": "code",
   "execution_count": 15,
   "metadata": {},
   "outputs": [
    {
     "name": "stdout",
     "output_type": "stream",
     "text": [
      "La lista resultante es: 3 4 1 2\n"
     ]
    }
   ],
   "source": [
    "def desplazar_lista(lista, desp): \n",
    "    return lista[-desp:]+ lista[:-desp]\n",
    "        \n",
    "def string_a_lista(lista, desp):  \n",
    "    return \" \".join(desplazar_lista(lista.split(), desp))\n",
    "        \n",
    "# print(string_a_lista(\"4 7 1 2 5 9 11 31\", 4))\n",
    "\n",
    "lista = input(\"Dime los elementos: \")\n",
    "desp = int(input(\"Dime el desplazamiento: \"))\n",
    "print(\"La lista resultante es:\", string_a_lista(lista, desp))\n",
    "\n",
    "# Dificultad 2"
   ]
  },
  {
   "cell_type": "markdown",
   "metadata": {},
   "source": [
    "## 3. Múltiplos en una lista\n",
    "\n",
    "Función que busque en una lista los múltiplos de un número y los devuelva en una nueva lista. Tanto el número (el divisor) como la lista serán argumentos de la función. Solo se pide la función. No es necesario implementar un interfaz de usuario, pero se deberían ejecutar casos de prueba.\n",
    "\n",
    "Ejemplo:\n",
    "    Para la lista: **1 2 3 4 5 6 7 8 9 10**\n",
    "    los múltiplos de dos son **2, 4, 6, 8, 10**\n",
    "    y los de tres son **3, 6, 9**"
   ]
  },
  {
   "cell_type": "code",
   "execution_count": 11,
   "metadata": {},
   "outputs": [
    {
     "name": "stdout",
     "output_type": "stream",
     "text": [
      "[3, 6, 9]\n",
      "[5, 10]\n"
     ]
    }
   ],
   "source": [
    "def multiplos(divisor, lista):\n",
    "    return [numero for numero in lista if numero % divisor == 0]\n",
    "\n",
    "def multiplos_2(divisor, lista):\n",
    "    solucion = []\n",
    "    for numero in lista:\n",
    "        if numero % divisor == 0:\n",
    "            solucion.append(numero)\n",
    "    return solucion\n",
    "\n",
    "print(multiplos(3, [1,2,3,4,5,6,7,8,9,10])) \n",
    "print(multiplos_2(5, [1,2,3,4,5,6,7,8,9,10])) \n",
    "\n",
    "# Dificultad 2"
   ]
  },
  {
   "cell_type": "markdown",
   "metadata": {},
   "source": [
    "## 4. Triángulo de números\n",
    "\n",
    "Función que reciba un número y dibuje un triángulo de números siguiendo el siguiente patrón. Solo la función y casos de prueba.\n",
    "\n",
    "Para 4:\n",
    "```none\n",
    "1\n",
    "2 2\n",
    "3 3 3\n",
    "4 4 4 4\n",
    "3 3 3\n",
    "2 2\n",
    "1\n",
    "```\n",
    "\n",
    "Para 3:\n",
    "```none\n",
    "1\n",
    "2 2\n",
    "3 3 3\n",
    "2 2\n",
    "1\n",
    "```"
   ]
  },
  {
   "cell_type": "code",
   "execution_count": 26,
   "metadata": {},
   "outputs": [
    {
     "name": "stdout",
     "output_type": "stream",
     "text": [
      "1 \n",
      "2 2 \n",
      "3 3 3 \n",
      "4 4 4 4 \n",
      "3 3 3 \n",
      "2 2 \n",
      "1 \n",
      "\n",
      "1 \n",
      "2 2 \n",
      "3 3 3 \n",
      "2 2 \n",
      "1 \n"
     ]
    }
   ],
   "source": [
    "def triangulo(numero):\n",
    "    for i in range(1, numero):\n",
    "        print(f\"{i} \" * i)\n",
    "    for i in range(numero, 0, -1):\n",
    "        print(f\"{i} \" * i)\n",
    "\n",
    "\n",
    "triangulo(4)\n",
    "print(\"\")\n",
    "triangulo(3)\n",
    "\n",
    "# Dificultad 2"
   ]
  }
 ],
 "metadata": {
  "kernelspec": {
   "display_name": "base",
   "language": "python",
   "name": "python3"
  },
  "language_info": {
   "codemirror_mode": {
    "name": "ipython",
    "version": 3
   },
   "file_extension": ".py",
   "mimetype": "text/x-python",
   "name": "python",
   "nbconvert_exporter": "python",
   "pygments_lexer": "ipython3",
   "version": "3.9.18"
  }
 },
 "nbformat": 4,
 "nbformat_minor": 2
}
