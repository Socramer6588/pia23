{
 "cells": [
  {
   "cell_type": "markdown",
   "id": "db412e85",
   "metadata": {},
   "source": [
    "# Construyendo modelos con PyTorch"
   ]
  },
  {
   "cell_type": "markdown",
   "id": "eb2c2e0e",
   "metadata": {},
   "source": [
    "## Modelos básicos"
   ]
  },
  {
   "cell_type": "markdown",
   "metadata": {},
   "source": [
    "### `torch.nn.Module` y `torch.nn.Parameter`"
   ]
  },
  {
   "cell_type": "markdown",
   "metadata": {},
   "source": [
    "\n",
    "`torch.nn.Module` es la clase base para cualquier red neuronal en PyTorch. Cualquier clase que herede de `torch.nn.Module` debe implementar el método `forward`. El método `forward` es el que define cómo se calcula la salida de la red neuronal.\n",
    "\n",
    "Cualquier objeto de tipo `torch.nn.Module` registra todos los parámetros de la red neuronal (los pesos y los sesgos). Estos parámetros son objetos de tipo `torch.nn.Parameter`, que es una subclase de `torch.Tensor`. Los parámetros se pueden acceder a través del método `parameters()` de la clase `Module`.\n",
    "\n",
    "\n"
   ]
  },
  {
   "cell_type": "markdown",
   "metadata": {},
   "source": [
    "A continuación se muestra un ejemplo de cómo definir una red neuronal muy básica en PyTorch. Esta red consta de dos capas lineales y una función de activación ReLU entre ellas. En ella podemos ver la estructura básica de una red neuronal en PyTorch, con un método `__init__()` que define las capas y otros componentes de la red, y un método `forward()` donde se realiza la computación."
   ]
  },
  {
   "cell_type": "code",
   "execution_count": 1,
   "metadata": {
    "collapsed": false
   },
   "outputs": [
    {
     "name": "stdout",
     "output_type": "stream",
     "text": [
      "The model:\n",
      "TinyModel(\n",
      "  (linear1): Linear(in_features=100, out_features=200, bias=True)\n",
      "  (activation): ReLU()\n",
      "  (linear2): Linear(in_features=200, out_features=10, bias=True)\n",
      "  (softmax): Softmax(dim=None)\n",
      ")\n",
      "\n",
      "\n",
      "Just one layer:\n",
      "Linear(in_features=200, out_features=10, bias=True)\n",
      "\n",
      "\n",
      "Model params:\n",
      "Parameter containing:\n",
      "tensor([[ 0.0846, -0.0966, -0.0207,  ..., -0.0877,  0.0258,  0.0748],\n",
      "        [-0.0168, -0.0218,  0.0965,  ...,  0.0276,  0.0269,  0.0505],\n",
      "        [-0.0075, -0.0147, -0.0428,  ..., -0.0969, -0.0750,  0.0290],\n",
      "        ...,\n",
      "        [-0.0135,  0.0896,  0.0397,  ...,  0.0596, -0.0786,  0.0559],\n",
      "        [ 0.0783, -0.0878, -0.0598,  ...,  0.0868,  0.0855, -0.0759],\n",
      "        [-0.0231, -0.0505, -0.0874,  ..., -0.0177,  0.0247, -0.0623]],\n",
      "       requires_grad=True)\n",
      "Parameter containing:\n",
      "tensor([-0.0923,  0.0695, -0.0967, -0.0348, -0.0268, -0.0773,  0.0502, -0.0698,\n",
      "         0.0787,  0.0276,  0.0834, -0.0996, -0.0679,  0.0788,  0.0101,  0.0542,\n",
      "         0.0844,  0.0276,  0.0794, -0.0293,  0.0644,  0.0252, -0.0727, -0.0422,\n",
      "        -0.0633,  0.0064,  0.0614,  0.0807,  0.0428, -0.0882,  0.0817,  0.0271,\n",
      "         0.0141,  0.0155,  0.0583,  0.0637,  0.0872, -0.0618,  0.0145,  0.0755,\n",
      "        -0.0538, -0.0884, -0.0455,  0.0195, -0.0677, -0.0950, -0.0027,  0.0118,\n",
      "        -0.0538,  0.0352, -0.0929,  0.0589,  0.0585,  0.0289, -0.0326,  0.0277,\n",
      "        -0.0100,  0.0012,  0.0075, -0.0425, -0.0944, -0.0010, -0.0152, -0.0919,\n",
      "        -0.0473,  0.0595,  0.0050, -0.0983,  0.0514,  0.0757, -0.0784, -0.0992,\n",
      "        -0.0773, -0.0439,  0.0090, -0.0744,  0.0510, -0.0815, -0.0930, -0.0821,\n",
      "        -0.0349,  0.0981, -0.0170,  0.0361,  0.0326,  0.0100, -0.0410,  0.0873,\n",
      "        -0.0774, -0.0173,  0.0486,  0.0024,  0.0491, -0.0468,  0.0990, -0.0110,\n",
      "         0.0750,  0.0953, -0.0421,  0.0194,  0.0838,  0.0060, -0.0799, -0.0820,\n",
      "         0.0761,  0.0574,  0.0911,  0.0981, -0.0796,  0.0373,  0.0831,  0.0992,\n",
      "        -0.0037, -0.0893,  0.0408, -0.0756,  0.0002,  0.0012,  0.0059,  0.0801,\n",
      "         0.0402,  0.0811, -0.0517,  0.0928, -0.0946,  0.0969, -0.0180,  0.0155,\n",
      "         0.0848, -0.0860,  0.0185,  0.0253, -0.0071, -0.0313,  0.0378,  0.0240,\n",
      "         0.0476,  0.0360,  0.0808,  0.0299, -0.0770, -0.0903, -0.0635, -0.0502,\n",
      "         0.0345, -0.0088, -0.0608, -0.0608,  0.0307,  0.0391, -0.0031,  0.0277,\n",
      "        -0.0110, -0.0634,  0.0702, -0.0042,  0.0273, -0.0703,  0.0766,  0.0905,\n",
      "        -0.0483,  0.0334, -0.0900,  0.0607, -0.0634, -0.0864, -0.0901,  0.0072,\n",
      "         0.0554,  0.0485, -0.0832,  0.0017,  0.0915,  0.0244, -0.0369,  0.0810,\n",
      "         0.0389,  0.0067, -0.0495, -0.0837,  0.0521, -0.0834, -0.0612,  0.0483,\n",
      "         0.0314, -0.0356,  0.0977,  0.0518, -0.0225,  0.0259, -0.0089,  0.0211,\n",
      "         0.0207, -0.0755, -0.0513,  0.0966, -0.0988, -0.0459,  0.0735, -0.0989],\n",
      "       requires_grad=True)\n",
      "Parameter containing:\n",
      "tensor([[-0.0472,  0.0057, -0.0417,  ..., -0.0693, -0.0642, -0.0256],\n",
      "        [-0.0526, -0.0098, -0.0305,  ...,  0.0579, -0.0332,  0.0072],\n",
      "        [-0.0125, -0.0478, -0.0271,  ...,  0.0238,  0.0078,  0.0551],\n",
      "        ...,\n",
      "        [-0.0582,  0.0650,  0.0140,  ..., -0.0270,  0.0126,  0.0527],\n",
      "        [ 0.0116,  0.0204, -0.0063,  ..., -0.0313,  0.0287, -0.0055],\n",
      "        [ 0.0525, -0.0471, -0.0489,  ...,  0.0660,  0.0304, -0.0088]],\n",
      "       requires_grad=True)\n",
      "Parameter containing:\n",
      "tensor([ 0.0322,  0.0049, -0.0549, -0.0646, -0.0562, -0.0319, -0.0208,  0.0094,\n",
      "        -0.0124,  0.0670], requires_grad=True)\n",
      "\n",
      "\n",
      "Layer params:\n",
      "Parameter containing:\n",
      "tensor([[-0.0472,  0.0057, -0.0417,  ..., -0.0693, -0.0642, -0.0256],\n",
      "        [-0.0526, -0.0098, -0.0305,  ...,  0.0579, -0.0332,  0.0072],\n",
      "        [-0.0125, -0.0478, -0.0271,  ...,  0.0238,  0.0078,  0.0551],\n",
      "        ...,\n",
      "        [-0.0582,  0.0650,  0.0140,  ..., -0.0270,  0.0126,  0.0527],\n",
      "        [ 0.0116,  0.0204, -0.0063,  ..., -0.0313,  0.0287, -0.0055],\n",
      "        [ 0.0525, -0.0471, -0.0489,  ...,  0.0660,  0.0304, -0.0088]],\n",
      "       requires_grad=True)\n",
      "Parameter containing:\n",
      "tensor([ 0.0322,  0.0049, -0.0549, -0.0646, -0.0562, -0.0319, -0.0208,  0.0094,\n",
      "        -0.0124,  0.0670], requires_grad=True)\n"
     ]
    }
   ],
   "source": [
    "import torch\n",
    "\n",
    "class TinyModel(torch.nn.Module):\n",
    "    \n",
    "    def __init__(self): # Definimos las capas como atributos \n",
    "        super().__init__()\n",
    "        self.linear1 = torch.nn.Linear(100, 200) # Capa de entrada\n",
    "        self.activation = torch.nn.ReLU() # Función de activación\n",
    "        self.linear2 = torch.nn.Linear(200, 10) # Capa de salida\n",
    "        self.softmax = torch.nn.Softmax() # Función de salida\n",
    "    \n",
    "    def forward(self, x): # Definimos el flujo de datos\n",
    "        x = self.linear1(x) # Capa de entrada\n",
    "        x = self.activation(x) # Función de activación\n",
    "        x = self.linear2(x) # Capa de salida\n",
    "        x = self.softmax(x) # Función de salida\n",
    "        return x\n",
    "\n",
    "tinymodel = TinyModel()\n",
    "\n",
    "print('The model:')\n",
    "print(tinymodel)\n",
    "\n",
    "print('\\n\\nJust one layer:')\n",
    "print(tinymodel.linear2)\n",
    "\n",
    "print('\\n\\nModel params:')\n",
    "for param in tinymodel.parameters():\n",
    "    print(param)\n",
    "\n",
    "print('\\n\\nLayer params:')\n",
    "for param in tinymodel.linear2.parameters():\n",
    "    print(param)"
   ]
  },
  {
   "cell_type": "markdown",
   "metadata": {},
   "source": [
    "### Estilo funcional"
   ]
  },
  {
   "cell_type": "markdown",
   "metadata": {},
   "source": [
    "La librería [`torch.nn.functional`](https://pytorch.org/docs/stable/nn.functional.html) permite llamar a algunos de los elementos (típicamente funciones de activación) directamente como funciones en lugar de cómo atributos de un objeto. Por ejemplo, el modelo anterior es equivalente al siguiente."
   ]
  },
  {
   "cell_type": "code",
   "execution_count": 2,
   "metadata": {},
   "outputs": [],
   "source": [
    "import torch\n",
    "import torch.nn.functional as F \n",
    "\n",
    "class TinyModel(torch.nn.Module):\n",
    "    def __init__(self):\n",
    "        super().__init__()\n",
    "        self.linear1 = torch.nn.Linear(100, 200)\n",
    "        self.linear2 = torch.nn.Linear(200, 10) \n",
    "\n",
    "    def forward(self, x):\n",
    "        x = self.linear1(x) \n",
    "        x = F.relu(x)\n",
    "        x = self.linear2(x)\n",
    "        x = F.softmax(x)\n",
    "        return x\n",
    "    \n",
    "    # o también es equivalente a:\n",
    "    def forward(self, x):\n",
    "        x = F.relu(self.linear1(x))\n",
    "        x = F.softmax(self.linear2(x))\n",
    "        return x\n",
    "    \n",
    "    # o aún más compacto:\n",
    "    def forward(self, x):\n",
    "        return F.softmax(self.linear2(F.relu(self.linear1(x))))"
   ]
  },
  {
   "cell_type": "markdown",
   "metadata": {},
   "source": [
    "### Usando `Secuential`"
   ]
  },
  {
   "cell_type": "markdown",
   "metadata": {},
   "source": [
    "`nn.Sequential` es una clase que permite definir una red neuronal secuencialmente. Es decir, se pueden definir las capas de la red neuronal en el orden en el que se van a aplicar. A continuación se muestra cómo se puede definir el modelo anterior usando `nn.Sequential`."
   ]
  },
  {
   "cell_type": "code",
   "execution_count": 3,
   "metadata": {},
   "outputs": [],
   "source": [
    "import torch.nn as nn\n",
    "\n",
    "class MyModel(nn.Module):\n",
    "  def __init__(self):\n",
    "    super().__init__()\n",
    "    self.model = nn.Sequential( # Definimos las capas en orden como un único atributo \n",
    "        nn.Linear(100, 200),\n",
    "        nn.ReLU(),\n",
    "        nn.Linear(200, 10),\n",
    "        nn.Softmax()\n",
    "    )\n",
    "\n",
    "  def forward(self, x):\n",
    "    x = self.model(x) # Se llama a toda la secuencia, su orden ya está definido internamente\n",
    "    return x\n"
   ]
  },
  {
   "cell_type": "markdown",
   "metadata": {},
   "source": [
    "## Capas lineales"
   ]
  },
  {
   "cell_type": "markdown",
   "metadata": {},
   "source": [
    "El tipo más básico de capa de red neuronal es una capa *lineal* o *totalmente conectada*. Esta es una capa en la que cada entrada influye en cada salida de la capa en un grado especificado por los pesos de la capa. Si un modelo tiene *m* entradas y *n* salidas, los pesos serán una matriz *m* x *n*.\n",
    "\n",
    "Se llama *lineal* porque la salida de la capa es una combinación lineal de las entradas $y=Wx+b$, donde $W$ es la matriz de pesos, $x$ es el vector de entradas y $b$ es el vector de sesgos.\n",
    "\n",
    "Si tenemos 3 entradas $x_1$, $x_2$ y $x_3$ y 2 salidas $y_1$ y $y_2$, la salida de la capa será:\n",
    "\n",
    "$$\\begin{bmatrix} y_1 \\\\ y_2 \\end{bmatrix} = \\begin{bmatrix} w_{11} & w_{12} & w_{13} \\\\ w_{21} & w_{22} & w_{23} \\end{bmatrix} \\begin{bmatrix} x_1 \\\\ x_2 \\\\ x_3 \\end{bmatrix}$$"
   ]
  },
  {
   "cell_type": "code",
   "execution_count": 4,
   "metadata": {
    "collapsed": false
   },
   "outputs": [
    {
     "name": "stdout",
     "output_type": "stream",
     "text": [
      "Parámetros de la capa (pesos y sesgos):\n",
      "Parameter containing:\n",
      "tensor([[-0.4722,  0.5522, -0.5758],\n",
      "        [-0.0792, -0.0225,  0.4340]], requires_grad=True)\n",
      "Parameter containing:\n",
      "tensor([-0.2049, -0.1315], requires_grad=True)\n",
      "\n",
      "\n",
      "Pesos: Parameter containing:\n",
      "tensor([[-0.4722,  0.5522, -0.5758],\n",
      "        [-0.0792, -0.0225,  0.4340]], requires_grad=True)\n",
      "\n",
      "\n",
      "Sesgos: Parameter containing:\n",
      "tensor([-0.2049, -0.1315], requires_grad=True)\n",
      "\n",
      "\n",
      "Input: tensor([[0.8024, 0.1478, 0.6341]])\n",
      "\n",
      "\n",
      "Output:\n",
      "tensor([[-0.8672,  0.0768]], grad_fn=<AddmmBackward0>)\n"
     ]
    }
   ],
   "source": [
    "lin = torch.nn.Linear(3, 2) # 3 entradas, 2 salidas\n",
    "\n",
    "print('Parámetros de la capa (pesos y sesgos):')\n",
    "for param in lin.parameters():\n",
    "    print(param)\n",
    "\n",
    "# Lo mismo accediendo directamente a cada atributo:\n",
    "print('\\n\\nPesos:', lin.weight)\n",
    "print('\\n\\nSesgos:', lin.bias)\n",
    "\n",
    "x = torch.rand(1, 3) # Tensor de entrada de 1x3\n",
    "print('\\n\\nInput:', x)\n",
    "\n",
    "y = lin(x)\n",
    "print('\\n\\nOutput:')\n",
    "print(y)"
   ]
  },
  {
   "cell_type": "markdown",
   "metadata": {},
   "source": [
    "Podemos ver que `lin.weight` contiene la matriz de pesos y que `lin.bias` contiene el vector de sesgos, siendo ambos de tipo `Parameter`.\n",
    "\n",
    "`Parameter` es una subclase de `Tensor` que se utiliza para indicar que un tensor es un parámetro de una red neuronal y, por lo tanto, debe registrar los gradientes por el módulo de autograd de PyTorch. Esto es importante para que PyTorch pueda calcular los gradientes de los parámetros durante el entrenamiento."
   ]
  },
  {
   "cell_type": "markdown",
   "metadata": {},
   "source": [
    "## Funciones de activación"
   ]
  },
  {
   "cell_type": "markdown",
   "metadata": {},
   "source": [
    "Si todo lo que hiciéramos fuera multiplicar tensores por los pesos de las capas repetidamente, solo podríamos simular funciones lineales; además, no tendría sentido tener muchas capas, ya que toda la red se reduciría a una sola multiplicación de matrices. Insertar funciones de activación no lineales entre capas es lo que permite que un modelo de aprendizaje profundo simule cualquier función, en lugar de solo las lineales.\n",
    "\n",
    "Las funciones de activación más comunes son la función sigmoide, la tangente hiperbólica y la función **ReLU**. La función sigmoide y la tangente hiperbólica se utilizan a menudo en redes neuronales más antiguas, pero la función ReLU es la más común en la actualidad. La función ReLU es simplemente $f(x) = \\max(0, x)$, lo que significa que si la entrada es negativa, la salida es cero, y si la entrada es positiva, la salida es igual a la entrada.\n",
    "\n",
    "En clasificación binaria, la función de activación **sigmoide** es comúnmente utilizada en la capa de salida, ya que la salida de la función sigmoide está en el rango [0, 1], lo que es adecuado para representar probabilidades. En clasificación multiclase, la función de activación softmax es comúnmente utilizada en la capa de salida, ya que la salida de la función softmax es un vector de probabilidades que suman 1.\n",
    "\n",
    "En clasificación multiclase, la función de activación ***softmax*** es comúnmente utilizada en la capa de salida, que es una generalización de la función sigmoide para múltiples clases. La función softmax asigna a cada clase una probabilidad entre 0 y 1, de forma que la suma de las probabilidades de todas las clases es 1."
   ]
  },
  {
   "cell_type": "markdown",
   "metadata": {},
   "source": [
    "## Fuentes\n",
    "\n",
    "- https://pytorch.org/tutorials/beginner/introyt/modelsyt_tutorial.html"
   ]
  }
 ],
 "metadata": {
  "kernelspec": {
   "display_name": "Python 3",
   "language": "python",
   "name": "python3"
  },
  "language_info": {
   "codemirror_mode": {
    "name": "ipython",
    "version": 3
   },
   "file_extension": ".py",
   "mimetype": "text/x-python",
   "name": "python",
   "nbconvert_exporter": "python",
   "pygments_lexer": "ipython3",
   "version": "3.9.18"
  }
 },
 "nbformat": 4,
 "nbformat_minor": 0
}
